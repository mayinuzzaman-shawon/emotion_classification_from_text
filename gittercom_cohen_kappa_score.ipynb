{
  "nbformat": 4,
  "nbformat_minor": 0,
  "metadata": {
    "colab": {
      "provenance": []
    },
    "kernelspec": {
      "name": "python3",
      "display_name": "Python 3"
    },
    "language_info": {
      "name": "python"
    }
  },
  "cells": [
    {
      "cell_type": "markdown",
      "source": [
        "**Computing Cohen's Kappa Inter-Agreement Score**"
      ],
      "metadata": {
        "id": "XNNM9mtR9yJ7"
      }
    },
    {
      "cell_type": "code",
      "source": [
        "import pandas as pd\n",
        "\n",
        "#loading manually annotated dataset consisting of 400 instances from the total 2000 instances of GitterCom dataset\n",
        "df = pd.read_csv('/content/drive/MyDrive/Datasets/gittercom_cohen_kappa.csv')"
      ],
      "metadata": {
        "id": "hbcr2e-tHc6T"
      },
      "execution_count": 16,
      "outputs": []
    },
    {
      "cell_type": "code",
      "source": [
        "print(df)"
      ],
      "metadata": {
        "colab": {
          "base_uri": "https://localhost:8080/"
        },
        "id": "vJC8_Pl2H6vg",
        "outputId": "0ced4352-a4c4-4963-a2bb-40f2c379390d"
      },
      "execution_count": 17,
      "outputs": [
        {
          "output_type": "stream",
          "name": "stdout",
          "text": [
            "                           Channel  \\\n",
            "0                         Cucumber   \n",
            "1                         Cucumber   \n",
            "2                         Cucumber   \n",
            "3                         Cucumber   \n",
            "4                         Cucumber   \n",
            "..                             ...   \n",
            "395  Freezing Moon - Ancient Beast   \n",
            "396  Freezing Moon - Ancient Beast   \n",
            "397  Freezing Moon - Ancient Beast   \n",
            "398  Freezing Moon - Ancient Beast   \n",
            "399  Freezing Moon - Ancient Beast   \n",
            "\n",
            "                                               message category_mayinuzzaman  \\\n",
            "0    Hi Team, I just recently upgraded our cucumber...                  fear   \n",
            "1                So github is trying to replace irc :P                  fear   \n",
            "2    @aslakhellesoy Thanks , seems like I was using...                   joy   \n",
            "3        @Sidkiyassine just call the methods directly!              surprise   \n",
            "4    Hello guys, need a help.I want to call the run...                  fear   \n",
            "..                                                 ...                   ...   \n",
            "395  i wish i could do this kind of work for free a...               sadness   \n",
            "396  kind of a small change in that patch but good ...                   joy   \n",
            "397            it's not working code, just pseudo code               sadness   \n",
            "398                    maybe not even good pseudo code               sadness   \n",
            "399  code looks good, will do tests tomorrow, will ...                   joy   \n",
            "\n",
            "    category_naveen  \n",
            "0              fear  \n",
            "1              fear  \n",
            "2               joy  \n",
            "3             angry  \n",
            "4              fear  \n",
            "..              ...  \n",
            "395         sadness  \n",
            "396             joy  \n",
            "397         sadness  \n",
            "398         sadness  \n",
            "399             joy  \n",
            "\n",
            "[400 rows x 4 columns]\n"
          ]
        }
      ]
    },
    {
      "cell_type": "code",
      "source": [
        "#this column contains manual annotation for emotion classification \n",
        "#by Mayinuzzaman Shawon\n",
        "col1 =  df.loc[:,\"category_mayinuzzaman\"]"
      ],
      "metadata": {
        "id": "He1CLtk3Im73"
      },
      "execution_count": 18,
      "outputs": []
    },
    {
      "cell_type": "code",
      "source": [
        "#this column contains manual annotation for emotion classification \n",
        "#by Naveen\n",
        "col2 = df.loc[:,\"category_naveen\"]"
      ],
      "metadata": {
        "id": "RUXeu3CYIxZ8"
      },
      "execution_count": 19,
      "outputs": []
    },
    {
      "cell_type": "code",
      "execution_count": 20,
      "metadata": {
        "colab": {
          "base_uri": "https://localhost:8080/"
        },
        "id": "0xw0sJ7zEP8z",
        "outputId": "0400b64a-60d1-40f4-9c21-12e2811b3871"
      },
      "outputs": [
        {
          "output_type": "stream",
          "name": "stdout",
          "text": [
            "Cohen's kappa score: 0.8559\n"
          ]
        }
      ],
      "source": [
        "from sklearn.metrics import cohen_kappa_score\n",
        "\n",
        "#six categories according to Shaver's et al emotion taxonomy\n",
        "categories = [\"love\", \"joy\", \"anger\",\"sadness\", \"fear\", \"surprise\"]\n",
        "\n",
        "cohen_kappa = cohen_kappa_score(col1, col2, labels=categories)\n",
        "\n",
        "#printing the Cohen's Kappa Score\n",
        "print(f\"Cohen's kappa score: {cohen_kappa:.4f}\")\n"
      ]
    }
  ]
}